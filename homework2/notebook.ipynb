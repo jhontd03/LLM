{
 "cells": [
  {
   "cell_type": "markdown",
   "id": "98191ed1",
   "metadata": {},
   "source": [
    "# Q1. Running Ollama with Docker\n",
    "\n",
    "What's the version of ollama client?\n",
    "\n",
    "To find out, enter the container and execute ollama with the -v flag."
   ]
  },
  {
   "cell_type": "markdown",
   "id": "7be7ed6e",
   "metadata": {},
   "source": [
    "ollama version is 0.1.48"
   ]
  },
  {
   "cell_type": "markdown",
   "id": "050d1f39",
   "metadata": {},
   "source": [
    "# Q2. Downloading an LLM"
   ]
  },
  {
   "cell_type": "markdown",
   "id": "98a38c1e",
   "metadata": {},
   "source": [
    "In docker, it saved the results into /root/.ollama\n",
    "\n",
    "We're interested in the metadata about this model. You can find it in models/manifests/registry.ollama.ai/library\n",
    "\n",
    "What's the content of the file related to gemma?"
   ]
  },
  {
   "cell_type": "markdown",
   "id": "dd7841f7",
   "metadata": {},
   "source": [
    "{\"schemaVersion\":2,\"mediaType\":\"application/vnd.docker.distribution.manifest.v2+json\",\"config\":{\"mediaType\":\"application/vnd.docker.container.image.v1+json\",\"digest\":\"sha256:887433b89a901c156f7e6944442f3c9e57f3\n",
    "c55d6ed52042cbb7303aea994290\",\"size\":483},\"layers\":[{\"mediaType\":\"application/vnd.ollama.image.model\",\"digest\":\"sha256:c1864a5eb19305c40519da12cc543519e48a0697ecd30e15d5ac228644957d12\",\"size\":1678447520},{\"medi\n",
    "aType\":\"application/vnd.ollama.image.license\",\"digest\":\"sha256:097a36493f718248845233af1d3fefe7a303f864fae13bc31a3a9704229378ca\",\"size\":8433},{\"mediaType\":\"application/vnd.ollama.image.template\",\"digest\":\"sha25\n",
    "6:109037bec39c0becc8221222ae23557559bc594290945a2c4221ab4f303b8871\",\"size\":136},{\"mediaType\":\"application/vnd.ollama.image.params\",\"digest\":\"sha256:22a838ceb7fb22755a3b0ae9b4eadde629d19be1f651f73efb8c6b4e2cd0ee\n",
    "a0\",\"size\":84}]}r"
   ]
  },
  {
   "cell_type": "markdown",
   "id": "f14f4aa0",
   "metadata": {},
   "source": [
    "# Q3. Running the LLM\n",
    "\n",
    "Test the following prompt: \"10 * 10\". What's the answer?"
   ]
  },
  {
   "cell_type": "markdown",
   "id": "83158ed3",
   "metadata": {},
   "source": [
    "Output is: 10 * 10 = 10"
   ]
  },
  {
   "cell_type": "markdown",
   "id": "f6e74cd7",
   "metadata": {},
   "source": [
    "# Q4. Donwloading the weights"
   ]
  },
  {
   "cell_type": "code",
   "execution_count": 57,
   "id": "f206bffd",
   "metadata": {},
   "outputs": [
    {
     "name": "stdout",
     "output_type": "stream",
     "text": [
      " El volumen de la unidad E es Tools\n",
      " El n�mero de serie del volumen es: 9C26-2DDC\n",
      "\n",
      " Directorio de e:\\algorithmic_trading\\python\\git_repo\\ZoomCamp\\LLM\\homework2\\ollama_files\n",
      "\n",
      "08/07/2024  11:29 a.�m.    <DIR>          models\n",
      "               0 archivos              0 bytes\n",
      "\n",
      "     Total de archivos en la lista:\n",
      "               0 archivos              0 bytes\n",
      "               1 dirs  172,860,592,128 bytes libres\n"
     ]
    }
   ],
   "source": [
    "!dir /a/s models"
   ]
  },
  {
   "cell_type": "markdown",
   "id": "f786b9c8",
   "metadata": {},
   "source": [
    "What's the size of the ollama_files/models folder?\n",
    "\n",
    "- 0.6G\n",
    "- 1.2G\n",
    "- **1.7G**\n",
    "- 2.2G\n"
   ]
  },
  {
   "cell_type": "markdown",
   "id": "05bef47f",
   "metadata": {},
   "source": [
    "# Q5. Adding the weights\n",
    "\n",
    "What do you put after COPY?"
   ]
  },
  {
   "cell_type": "code",
   "execution_count": 58,
   "id": "98cc9638",
   "metadata": {},
   "outputs": [
    {
     "name": "stdout",
     "output_type": "stream",
     "text": [
      "FROM ollama/ollama\n",
      "\n",
      "COPY ./ollama_files/models /root/.ollama/models\n"
     ]
    }
   ],
   "source": [
    "!more Dockerfile"
   ]
  },
  {
   "cell_type": "code",
   "execution_count": 1,
   "id": "37b441c0",
   "metadata": {},
   "outputs": [],
   "source": [
    "from openai import OpenAI\n",
    "\n",
    "client = OpenAI(\n",
    "    base_url='http://localhost:11434/v1/',\n",
    "    api_key='ollama',\n",
    ")"
   ]
  },
  {
   "cell_type": "code",
   "execution_count": 39,
   "id": "a3b96481",
   "metadata": {},
   "outputs": [],
   "source": [
    "def llm(prompt):\n",
    "    try:\n",
    "        response = client.chat.completions.create(\n",
    "            model='gemma:2b',\n",
    "            messages=[{'role': 'user', 'content': prompt}],\n",
    "            temperature=0\n",
    "        )\n",
    "        return response\n",
    "    except Exception as e:\n",
    "        print(f\"Error generating response: {e}\")\n",
    "        return None"
   ]
  },
  {
   "cell_type": "code",
   "execution_count": 40,
   "id": "7c0e0c3b",
   "metadata": {},
   "outputs": [],
   "source": [
    "prompt = \"What's the formula for energy?\""
   ]
  },
  {
   "cell_type": "code",
   "execution_count": 41,
   "id": "ef7b463e",
   "metadata": {},
   "outputs": [],
   "source": [
    "response = llm(prompt)"
   ]
  },
  {
   "cell_type": "code",
   "execution_count": 42,
   "id": "641bbcc5",
   "metadata": {},
   "outputs": [
    {
     "data": {
      "text/plain": [
       "[\"Sure, here's the formula for energy:\",\n",
       " '**E = K + U**',\n",
       " 'Where:',\n",
       " '* **E** is the energy in joules (J)\\n* **K** is the kinetic energy in joules (J)\\n* **U** is the potential energy in joules (J)',\n",
       " \"**Kinetic energy (K)** is the energy an object possesses when it moves or is in motion. It is calculated as half the product of an object's mass (m) and its velocity (v) squared:\",\n",
       " '**K = 1/2 * m * v^2**',\n",
       " \"**Potential energy (U)** is the energy an object possesses when it is in a position or has a specific configuration. It is calculated as the product of an object's mass and the gravitational constant (g) multiplied by the height or distance of the object from a reference point.\",\n",
       " '**Gravitational potential energy (U)** is given by the formula:',\n",
       " '**U = mgh**',\n",
       " 'Where:',\n",
       " '* **m** is the mass of the object in kilograms (kg)\\n* **g** is the acceleration due to gravity in meters per second squared (m/s^2)\\n* **h** is the height or distance of the object in meters (m)',\n",
       " 'The formula for energy can be used to calculate the total energy of an object, the energy of a specific part of an object, or the change in energy of an object over time.']"
      ]
     },
     "execution_count": 42,
     "metadata": {},
     "output_type": "execute_result"
    }
   ],
   "source": [
    "response.choices[0].message.content.split(\"\\n\\n\")"
   ]
  },
  {
   "cell_type": "code",
   "execution_count": 43,
   "id": "8f7a4609",
   "metadata": {},
   "outputs": [
    {
     "data": {
      "text/plain": [
       "CompletionUsage(completion_tokens=304, prompt_tokens=0, total_tokens=304)"
      ]
     },
     "execution_count": 43,
     "metadata": {},
     "output_type": "execute_result"
    }
   ],
   "source": [
    "response.usage"
   ]
  },
  {
   "cell_type": "markdown",
   "id": "07384364",
   "metadata": {},
   "source": [
    "# Q6. Serving it"
   ]
  },
  {
   "cell_type": "markdown",
   "id": "3cb857ab",
   "metadata": {},
   "source": [
    "How many completion tokens did you get in response?\n",
    "\n",
    "- **304**\n",
    "- 604\n",
    "- 904\n",
    "- 1204"
   ]
  }
 ],
 "metadata": {
  "kernelspec": {
   "display_name": "Python 3 (ipykernel)",
   "language": "python",
   "name": "python3"
  },
  "language_info": {
   "codemirror_mode": {
    "name": "ipython",
    "version": 3
   },
   "file_extension": ".py",
   "mimetype": "text/x-python",
   "name": "python",
   "nbconvert_exporter": "python",
   "pygments_lexer": "ipython3",
   "version": "3.9.18"
  }
 },
 "nbformat": 4,
 "nbformat_minor": 5
}
