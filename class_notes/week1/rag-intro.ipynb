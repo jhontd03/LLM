{
 "cells": [
  {
   "cell_type": "code",
   "execution_count": 1,
   "id": "155f85a4-49cf-4489-afe8-bc595f622b3b",
   "metadata": {},
   "outputs": [
    {
     "name": "stdout",
     "output_type": "stream",
     "text": [
      "--2024-06-06 12:12:51--  https://raw.githubusercontent.com/alexeygrigorev/minsearch/main/minsearch.py\n",
      "Resolving raw.githubusercontent.com (raw.githubusercontent.com)... 185.199.111.133, 185.199.110.133, 185.199.108.133, ...\n",
      "Connecting to raw.githubusercontent.com (raw.githubusercontent.com)|185.199.111.133|:443... connected.\n",
      "HTTP request sent, awaiting response... 200 OK\n",
      "Length: 3832 (3.7K) [text/plain]\n",
      "Saving to: ‘minsearch.py’\n",
      "\n",
      "minsearch.py        100%[===================>]   3.74K  --.-KB/s    in 0s      \n",
      "\n",
      "2024-06-06 12:12:51 (32.2 MB/s) - ‘minsearch.py’ saved [3832/3832]\n",
      "\n"
     ]
    }
   ],
   "source": [
    "!wget https://raw.githubusercontent.com/alexeygrigorev/minsearch/main/minsearch.py"
   ]
  },
  {
   "cell_type": "code",
   "execution_count": 1,
   "id": "dcc893cf",
   "metadata": {},
   "outputs": [
    {
     "name": "stdout",
     "output_type": "stream",
     "text": [
      "Requirement already satisfied: tqdm in e:\\algorithmic_trading\\miniconda3\\envs\\zoomcamp\\lib\\site-packages (4.66.4)\n",
      "Collecting notebook==7.1.2\n",
      "  Downloading notebook-7.1.2-py3-none-any.whl.metadata (10 kB)\n",
      "Collecting openai\n",
      "  Downloading openai-1.35.1-py3-none-any.whl.metadata (21 kB)\n",
      "Collecting elasticsearch\n",
      "  Downloading elasticsearch-8.14.0-py3-none-any.whl.metadata (7.2 kB)\n",
      "Requirement already satisfied: pandas in c:\\users\\jhonjairo\\appdata\\roaming\\python\\python39\\site-packages (2.2.2)\n",
      "Requirement already satisfied: scikit-learn in e:\\algorithmic_trading\\miniconda3\\envs\\zoomcamp\\lib\\site-packages (1.5.0)\n",
      "Collecting jupyter-server<3,>=2.4.0 (from notebook==7.1.2)\n",
      "  Downloading jupyter_server-2.14.1-py3-none-any.whl.metadata (8.4 kB)\n",
      "Collecting jupyterlab-server<3,>=2.22.1 (from notebook==7.1.2)\n",
      "  Downloading jupyterlab_server-2.27.2-py3-none-any.whl.metadata (5.9 kB)\n",
      "Collecting jupyterlab<4.2,>=4.1.1 (from notebook==7.1.2)\n",
      "  Downloading jupyterlab-4.1.8-py3-none-any.whl.metadata (16 kB)\n",
      "Requirement already satisfied: notebook-shim<0.3,>=0.2 in c:\\users\\jhonjairo\\appdata\\roaming\\python\\python39\\site-packages (from notebook==7.1.2) (0.2.2)\n",
      "Requirement already satisfied: tornado>=6.2.0 in e:\\algorithmic_trading\\miniconda3\\envs\\zoomcamp\\lib\\site-packages (from notebook==7.1.2) (6.3.3)\n",
      "Requirement already satisfied: colorama in e:\\algorithmic_trading\\miniconda3\\envs\\zoomcamp\\lib\\site-packages (from tqdm) (0.4.6)\n",
      "Requirement already satisfied: anyio<5,>=3.5.0 in e:\\algorithmic_trading\\miniconda3\\envs\\zoomcamp\\lib\\site-packages (from openai) (3.7.1)\n",
      "Requirement already satisfied: distro<2,>=1.7.0 in e:\\algorithmic_trading\\miniconda3\\envs\\zoomcamp\\lib\\site-packages (from openai) (1.9.0)\n",
      "Requirement already satisfied: httpx<1,>=0.23.0 in e:\\algorithmic_trading\\miniconda3\\envs\\zoomcamp\\lib\\site-packages (from openai) (0.27.0)\n",
      "Requirement already satisfied: pydantic<3,>=1.9.0 in e:\\algorithmic_trading\\miniconda3\\envs\\zoomcamp\\lib\\site-packages (from openai) (2.6.0)\n",
      "Requirement already satisfied: sniffio in e:\\algorithmic_trading\\miniconda3\\envs\\zoomcamp\\lib\\site-packages (from openai) (1.3.0)\n",
      "Requirement already satisfied: typing-extensions<5,>=4.7 in e:\\algorithmic_trading\\miniconda3\\envs\\zoomcamp\\lib\\site-packages (from openai) (4.9.0)\n",
      "Collecting elastic-transport<9,>=8.13 (from elasticsearch)\n",
      "  Downloading elastic_transport-8.13.1-py3-none-any.whl.metadata (3.7 kB)\n",
      "Requirement already satisfied: numpy>=1.22.4 in e:\\algorithmic_trading\\miniconda3\\envs\\zoomcamp\\lib\\site-packages (from pandas) (1.26.3)\n",
      "Requirement already satisfied: python-dateutil>=2.8.2 in e:\\algorithmic_trading\\miniconda3\\envs\\zoomcamp\\lib\\site-packages (from pandas) (2.8.2)\n",
      "Requirement already satisfied: pytz>=2020.1 in e:\\algorithmic_trading\\miniconda3\\envs\\zoomcamp\\lib\\site-packages (from pandas) (2023.3.post1)\n",
      "Requirement already satisfied: tzdata>=2022.7 in c:\\users\\jhonjairo\\appdata\\roaming\\python\\python39\\site-packages (from pandas) (2022.7)\n",
      "Requirement already satisfied: scipy>=1.6.0 in e:\\algorithmic_trading\\miniconda3\\envs\\zoomcamp\\lib\\site-packages (from scikit-learn) (1.13.1)\n",
      "Requirement already satisfied: joblib>=1.2.0 in c:\\users\\jhonjairo\\appdata\\roaming\\python\\python39\\site-packages (from scikit-learn) (1.2.0)\n",
      "Requirement already satisfied: threadpoolctl>=3.1.0 in e:\\algorithmic_trading\\miniconda3\\envs\\zoomcamp\\lib\\site-packages (from scikit-learn) (3.5.0)\n",
      "Requirement already satisfied: idna>=2.8 in e:\\algorithmic_trading\\miniconda3\\envs\\zoomcamp\\lib\\site-packages (from anyio<5,>=3.5.0->openai) (3.6)\n",
      "Requirement already satisfied: exceptiongroup in c:\\users\\jhonjairo\\appdata\\roaming\\python\\python39\\site-packages (from anyio<5,>=3.5.0->openai) (1.1.0)\n",
      "Requirement already satisfied: urllib3<3,>=1.26.2 in e:\\algorithmic_trading\\miniconda3\\envs\\zoomcamp\\lib\\site-packages (from elastic-transport<9,>=8.13->elasticsearch) (1.26.18)\n",
      "Requirement already satisfied: certifi in e:\\algorithmic_trading\\miniconda3\\envs\\zoomcamp\\lib\\site-packages (from elastic-transport<9,>=8.13->elasticsearch) (2024.6.2)\n",
      "Requirement already satisfied: httpcore==1.* in e:\\algorithmic_trading\\miniconda3\\envs\\zoomcamp\\lib\\site-packages (from httpx<1,>=0.23.0->openai) (1.0.5)\n",
      "Requirement already satisfied: h11<0.15,>=0.13 in e:\\algorithmic_trading\\miniconda3\\envs\\zoomcamp\\lib\\site-packages (from httpcore==1.*->httpx<1,>=0.23.0->openai) (0.14.0)\n",
      "Requirement already satisfied: argon2-cffi>=21.1 in e:\\algorithmic_trading\\miniconda3\\envs\\zoomcamp\\lib\\site-packages (from jupyter-server<3,>=2.4.0->notebook==7.1.2) (23.1.0)\n",
      "Requirement already satisfied: jinja2>=3.0.3 in e:\\algorithmic_trading\\miniconda3\\envs\\zoomcamp\\lib\\site-packages (from jupyter-server<3,>=2.4.0->notebook==7.1.2) (3.1.3)\n",
      "Requirement already satisfied: jupyter-client>=7.4.4 in e:\\algorithmic_trading\\miniconda3\\envs\\zoomcamp\\lib\\site-packages (from jupyter-server<3,>=2.4.0->notebook==7.1.2) (8.6.0)\n",
      "Requirement already satisfied: jupyter-core!=5.0.*,>=4.12 in e:\\algorithmic_trading\\miniconda3\\envs\\zoomcamp\\lib\\site-packages (from jupyter-server<3,>=2.4.0->notebook==7.1.2) (5.7.1)\n",
      "Collecting jupyter-events>=0.9.0 (from jupyter-server<3,>=2.4.0->notebook==7.1.2)\n",
      "  Downloading jupyter_events-0.10.0-py3-none-any.whl.metadata (5.9 kB)\n",
      "Requirement already satisfied: jupyter-server-terminals>=0.4.4 in c:\\users\\jhonjairo\\appdata\\roaming\\python\\python39\\site-packages (from jupyter-server<3,>=2.4.0->notebook==7.1.2) (0.4.4)\n",
      "Requirement already satisfied: nbconvert>=6.4.4 in e:\\algorithmic_trading\\miniconda3\\envs\\zoomcamp\\lib\\site-packages (from jupyter-server<3,>=2.4.0->notebook==7.1.2) (7.14.2)\n",
      "Requirement already satisfied: nbformat>=5.3.0 in c:\\users\\jhonjairo\\appdata\\roaming\\python\\python39\\site-packages (from jupyter-server<3,>=2.4.0->notebook==7.1.2) (5.7.3)\n",
      "Collecting overrides>=5.0 (from jupyter-server<3,>=2.4.0->notebook==7.1.2)\n",
      "  Downloading overrides-7.7.0-py3-none-any.whl.metadata (5.8 kB)\n",
      "Requirement already satisfied: packaging>=22.0 in e:\\algorithmic_trading\\miniconda3\\envs\\zoomcamp\\lib\\site-packages (from jupyter-server<3,>=2.4.0->notebook==7.1.2) (23.2)\n",
      "Requirement already satisfied: prometheus-client>=0.9 in c:\\users\\jhonjairo\\appdata\\roaming\\python\\python39\\site-packages (from jupyter-server<3,>=2.4.0->notebook==7.1.2) (0.16.0)\n",
      "Requirement already satisfied: pywinpty>=2.0.1 in c:\\users\\jhonjairo\\appdata\\roaming\\python\\python39\\site-packages (from jupyter-server<3,>=2.4.0->notebook==7.1.2) (2.0.10)\n",
      "Requirement already satisfied: pyzmq>=24 in e:\\algorithmic_trading\\miniconda3\\envs\\zoomcamp\\lib\\site-packages (from jupyter-server<3,>=2.4.0->notebook==7.1.2) (25.1.2)\n",
      "Requirement already satisfied: send2trash>=1.8.2 in e:\\algorithmic_trading\\miniconda3\\envs\\zoomcamp\\lib\\site-packages (from jupyter-server<3,>=2.4.0->notebook==7.1.2) (1.8.2)\n",
      "Requirement already satisfied: terminado>=0.8.3 in c:\\users\\jhonjairo\\appdata\\roaming\\python\\python39\\site-packages (from jupyter-server<3,>=2.4.0->notebook==7.1.2) (0.17.1)\n",
      "Requirement already satisfied: traitlets>=5.6.0 in e:\\algorithmic_trading\\miniconda3\\envs\\zoomcamp\\lib\\site-packages (from jupyter-server<3,>=2.4.0->notebook==7.1.2) (5.14.1)\n",
      "Collecting websocket-client>=1.7 (from jupyter-server<3,>=2.4.0->notebook==7.1.2)\n",
      "  Downloading websocket_client-1.8.0-py3-none-any.whl.metadata (8.0 kB)\n",
      "Collecting async-lru>=1.0.0 (from jupyterlab<4.2,>=4.1.1->notebook==7.1.2)\n",
      "  Downloading async_lru-2.0.4-py3-none-any.whl.metadata (4.5 kB)\n",
      "Requirement already satisfied: importlib-metadata>=4.8.3 in e:\\algorithmic_trading\\miniconda3\\envs\\zoomcamp\\lib\\site-packages (from jupyterlab<4.2,>=4.1.1->notebook==7.1.2) (7.0.0)\n",
      "Requirement already satisfied: ipykernel>=6.5.0 in e:\\algorithmic_trading\\miniconda3\\envs\\zoomcamp\\lib\\site-packages (from jupyterlab<4.2,>=4.1.1->notebook==7.1.2) (6.29.0)\n",
      "Collecting jupyter-lsp>=2.0.0 (from jupyterlab<4.2,>=4.1.1->notebook==7.1.2)\n",
      "  Downloading jupyter_lsp-2.2.5-py3-none-any.whl.metadata (1.8 kB)\n",
      "Collecting tomli>=1.2.2 (from jupyterlab<4.2,>=4.1.1->notebook==7.1.2)\n",
      "  Using cached tomli-2.0.1-py3-none-any.whl.metadata (8.9 kB)\n",
      "Requirement already satisfied: babel>=2.10 in c:\\users\\jhonjairo\\appdata\\roaming\\python\\python39\\site-packages (from jupyterlab-server<3,>=2.22.1->notebook==7.1.2) (2.11.0)\n",
      "Requirement already satisfied: json5>=0.9.0 in c:\\users\\jhonjairo\\appdata\\roaming\\python\\python39\\site-packages (from jupyterlab-server<3,>=2.22.1->notebook==7.1.2) (0.9.11)\n",
      "Collecting jsonschema>=4.18.0 (from jupyterlab-server<3,>=2.22.1->notebook==7.1.2)\n",
      "  Downloading jsonschema-4.22.0-py3-none-any.whl.metadata (8.2 kB)\n",
      "Requirement already satisfied: requests>=2.31 in e:\\algorithmic_trading\\miniconda3\\envs\\zoomcamp\\lib\\site-packages (from jupyterlab-server<3,>=2.22.1->notebook==7.1.2) (2.32.3)\n",
      "Requirement already satisfied: annotated-types>=0.4.0 in e:\\algorithmic_trading\\miniconda3\\envs\\zoomcamp\\lib\\site-packages (from pydantic<3,>=1.9.0->openai) (0.6.0)\n",
      "Requirement already satisfied: pydantic-core==2.16.1 in e:\\algorithmic_trading\\miniconda3\\envs\\zoomcamp\\lib\\site-packages (from pydantic<3,>=1.9.0->openai) (2.16.1)\n",
      "Requirement already satisfied: six>=1.5 in e:\\algorithmic_trading\\miniconda3\\envs\\zoomcamp\\lib\\site-packages (from python-dateutil>=2.8.2->pandas) (1.16.0)\n",
      "Requirement already satisfied: argon2-cffi-bindings in e:\\algorithmic_trading\\miniconda3\\envs\\zoomcamp\\lib\\site-packages (from argon2-cffi>=21.1->jupyter-server<3,>=2.4.0->notebook==7.1.2) (21.2.0)\n",
      "Requirement already satisfied: zipp>=0.5 in e:\\algorithmic_trading\\miniconda3\\envs\\zoomcamp\\lib\\site-packages (from importlib-metadata>=4.8.3->jupyterlab<4.2,>=4.1.1->notebook==7.1.2) (3.17.0)\n",
      "Requirement already satisfied: comm>=0.1.1 in e:\\algorithmic_trading\\miniconda3\\envs\\zoomcamp\\lib\\site-packages (from ipykernel>=6.5.0->jupyterlab<4.2,>=4.1.1->notebook==7.1.2) (0.2.1)\n",
      "Requirement already satisfied: debugpy>=1.6.5 in c:\\users\\jhonjairo\\appdata\\roaming\\python\\python39\\site-packages (from ipykernel>=6.5.0->jupyterlab<4.2,>=4.1.1->notebook==7.1.2) (1.6.6)\n",
      "Requirement already satisfied: ipython>=7.23.1 in e:\\algorithmic_trading\\miniconda3\\envs\\zoomcamp\\lib\\site-packages (from ipykernel>=6.5.0->jupyterlab<4.2,>=4.1.1->notebook==7.1.2) (8.12.0)\n",
      "Requirement already satisfied: matplotlib-inline>=0.1 in e:\\algorithmic_trading\\miniconda3\\envs\\zoomcamp\\lib\\site-packages (from ipykernel>=6.5.0->jupyterlab<4.2,>=4.1.1->notebook==7.1.2) (0.1.6)\n",
      "Requirement already satisfied: nest-asyncio in c:\\users\\jhonjairo\\appdata\\roaming\\python\\python39\\site-packages (from ipykernel>=6.5.0->jupyterlab<4.2,>=4.1.1->notebook==7.1.2) (1.5.6)\n",
      "Requirement already satisfied: psutil in c:\\users\\jhonjairo\\appdata\\roaming\\python\\python39\\site-packages (from ipykernel>=6.5.0->jupyterlab<4.2,>=4.1.1->notebook==7.1.2) (5.9.4)\n",
      "Requirement already satisfied: MarkupSafe>=2.0 in e:\\algorithmic_trading\\miniconda3\\envs\\zoomcamp\\lib\\site-packages (from jinja2>=3.0.3->jupyter-server<3,>=2.4.0->notebook==7.1.2) (2.1.4)\n",
      "Requirement already satisfied: attrs>=22.2.0 in e:\\algorithmic_trading\\miniconda3\\envs\\zoomcamp\\lib\\site-packages (from jsonschema>=4.18.0->jupyterlab-server<3,>=2.22.1->notebook==7.1.2) (23.2.0)\n",
      "Collecting jsonschema-specifications>=2023.03.6 (from jsonschema>=4.18.0->jupyterlab-server<3,>=2.22.1->notebook==7.1.2)\n",
      "  Downloading jsonschema_specifications-2023.12.1-py3-none-any.whl.metadata (3.0 kB)\n",
      "Collecting referencing>=0.28.4 (from jsonschema>=4.18.0->jupyterlab-server<3,>=2.22.1->notebook==7.1.2)\n",
      "  Downloading referencing-0.35.1-py3-none-any.whl.metadata (2.8 kB)\n",
      "Collecting rpds-py>=0.7.1 (from jsonschema>=4.18.0->jupyterlab-server<3,>=2.22.1->notebook==7.1.2)\n",
      "  Downloading rpds_py-0.18.1-cp39-none-win_amd64.whl.metadata (4.2 kB)\n",
      "Requirement already satisfied: platformdirs>=2.5 in e:\\algorithmic_trading\\miniconda3\\envs\\zoomcamp\\lib\\site-packages (from jupyter-core!=5.0.*,>=4.12->jupyter-server<3,>=2.4.0->notebook==7.1.2) (4.1.0)\n",
      "Requirement already satisfied: pywin32>=300 in c:\\users\\jhonjairo\\appdata\\roaming\\python\\python39\\site-packages (from jupyter-core!=5.0.*,>=4.12->jupyter-server<3,>=2.4.0->notebook==7.1.2) (305)\n",
      "Requirement already satisfied: python-json-logger>=2.0.4 in c:\\users\\jhonjairo\\appdata\\roaming\\python\\python39\\site-packages (from jupyter-events>=0.9.0->jupyter-server<3,>=2.4.0->notebook==7.1.2) (2.0.6)\n",
      "Requirement already satisfied: pyyaml>=5.3 in e:\\algorithmic_trading\\miniconda3\\envs\\zoomcamp\\lib\\site-packages (from jupyter-events>=0.9.0->jupyter-server<3,>=2.4.0->notebook==7.1.2) (6.0.1)\n",
      "Requirement already satisfied: rfc3339-validator in c:\\users\\jhonjairo\\appdata\\roaming\\python\\python39\\site-packages (from jupyter-events>=0.9.0->jupyter-server<3,>=2.4.0->notebook==7.1.2) (0.1.4)\n",
      "Requirement already satisfied: rfc3986-validator>=0.1.1 in c:\\users\\jhonjairo\\appdata\\roaming\\python\\python39\\site-packages (from jupyter-events>=0.9.0->jupyter-server<3,>=2.4.0->notebook==7.1.2) (0.1.1)\n",
      "Requirement already satisfied: beautifulsoup4 in e:\\algorithmic_trading\\miniconda3\\envs\\zoomcamp\\lib\\site-packages (from nbconvert>=6.4.4->jupyter-server<3,>=2.4.0->notebook==7.1.2) (4.12.3)\n",
      "Requirement already satisfied: bleach!=5.0.0 in e:\\algorithmic_trading\\miniconda3\\envs\\zoomcamp\\lib\\site-packages (from nbconvert>=6.4.4->jupyter-server<3,>=2.4.0->notebook==7.1.2) (6.1.0)\n",
      "Requirement already satisfied: defusedxml in e:\\algorithmic_trading\\miniconda3\\envs\\zoomcamp\\lib\\site-packages (from nbconvert>=6.4.4->jupyter-server<3,>=2.4.0->notebook==7.1.2) (0.7.1)\n",
      "Requirement already satisfied: jupyterlab-pygments in e:\\algorithmic_trading\\miniconda3\\envs\\zoomcamp\\lib\\site-packages (from nbconvert>=6.4.4->jupyter-server<3,>=2.4.0->notebook==7.1.2) (0.3.0)\n",
      "Requirement already satisfied: mistune<4,>=2.0.3 in e:\\algorithmic_trading\\miniconda3\\envs\\zoomcamp\\lib\\site-packages (from nbconvert>=6.4.4->jupyter-server<3,>=2.4.0->notebook==7.1.2) (3.0.2)\n",
      "Requirement already satisfied: nbclient>=0.5.0 in c:\\users\\jhonjairo\\appdata\\roaming\\python\\python39\\site-packages (from nbconvert>=6.4.4->jupyter-server<3,>=2.4.0->notebook==7.1.2) (0.7.2)\n",
      "Requirement already satisfied: pandocfilters>=1.4.1 in e:\\algorithmic_trading\\miniconda3\\envs\\zoomcamp\\lib\\site-packages (from nbconvert>=6.4.4->jupyter-server<3,>=2.4.0->notebook==7.1.2) (1.5.1)\n",
      "Requirement already satisfied: pygments>=2.4.1 in c:\\users\\jhonjairo\\appdata\\roaming\\python\\python39\\site-packages (from nbconvert>=6.4.4->jupyter-server<3,>=2.4.0->notebook==7.1.2) (2.14.0)\n",
      "Requirement already satisfied: tinycss2 in c:\\users\\jhonjairo\\appdata\\roaming\\python\\python39\\site-packages (from nbconvert>=6.4.4->jupyter-server<3,>=2.4.0->notebook==7.1.2) (1.2.1)\n",
      "Requirement already satisfied: fastjsonschema in c:\\users\\jhonjairo\\appdata\\roaming\\python\\python39\\site-packages (from nbformat>=5.3.0->jupyter-server<3,>=2.4.0->notebook==7.1.2) (2.16.2)\n",
      "Requirement already satisfied: charset-normalizer<4,>=2 in c:\\users\\jhonjairo\\appdata\\roaming\\python\\python39\\site-packages (from requests>=2.31->jupyterlab-server<3,>=2.22.1->notebook==7.1.2) (3.0.1)\n",
      "Requirement already satisfied: webencodings in e:\\algorithmic_trading\\miniconda3\\envs\\zoomcamp\\lib\\site-packages (from bleach!=5.0.0->nbconvert>=6.4.4->jupyter-server<3,>=2.4.0->notebook==7.1.2) (0.5.1)\n",
      "Requirement already satisfied: backcall in e:\\algorithmic_trading\\miniconda3\\envs\\zoomcamp\\lib\\site-packages (from ipython>=7.23.1->ipykernel>=6.5.0->jupyterlab<4.2,>=4.1.1->notebook==7.1.2) (0.2.0)\n",
      "Requirement already satisfied: decorator in e:\\algorithmic_trading\\miniconda3\\envs\\zoomcamp\\lib\\site-packages (from ipython>=7.23.1->ipykernel>=6.5.0->jupyterlab<4.2,>=4.1.1->notebook==7.1.2) (5.1.1)\n",
      "Requirement already satisfied: jedi>=0.16 in c:\\users\\jhonjairo\\appdata\\roaming\\python\\python39\\site-packages (from ipython>=7.23.1->ipykernel>=6.5.0->jupyterlab<4.2,>=4.1.1->notebook==7.1.2) (0.18.2)\n",
      "Requirement already satisfied: pickleshare in e:\\algorithmic_trading\\miniconda3\\envs\\zoomcamp\\lib\\site-packages (from ipython>=7.23.1->ipykernel>=6.5.0->jupyterlab<4.2,>=4.1.1->notebook==7.1.2) (0.7.5)\n",
      "Requirement already satisfied: prompt-toolkit!=3.0.37,<3.1.0,>=3.0.30 in e:\\algorithmic_trading\\miniconda3\\envs\\zoomcamp\\lib\\site-packages (from ipython>=7.23.1->ipykernel>=6.5.0->jupyterlab<4.2,>=4.1.1->notebook==7.1.2) (3.0.42)\n",
      "Requirement already satisfied: stack-data in e:\\algorithmic_trading\\miniconda3\\envs\\zoomcamp\\lib\\site-packages (from ipython>=7.23.1->ipykernel>=6.5.0->jupyterlab<4.2,>=4.1.1->notebook==7.1.2) (0.6.2)\n",
      "Requirement already satisfied: fqdn in c:\\users\\jhonjairo\\appdata\\roaming\\python\\python39\\site-packages (from jsonschema[format-nongpl]>=4.18.0->jupyter-events>=0.9.0->jupyter-server<3,>=2.4.0->notebook==7.1.2) (1.5.1)\n",
      "Requirement already satisfied: isoduration in c:\\users\\jhonjairo\\appdata\\roaming\\python\\python39\\site-packages (from jsonschema[format-nongpl]>=4.18.0->jupyter-events>=0.9.0->jupyter-server<3,>=2.4.0->notebook==7.1.2) (20.11.0)\n",
      "Requirement already satisfied: jsonpointer>1.13 in c:\\users\\jhonjairo\\appdata\\roaming\\python\\python39\\site-packages (from jsonschema[format-nongpl]>=4.18.0->jupyter-events>=0.9.0->jupyter-server<3,>=2.4.0->notebook==7.1.2) (2.3)\n",
      "Requirement already satisfied: uri-template in c:\\users\\jhonjairo\\appdata\\roaming\\python\\python39\\site-packages (from jsonschema[format-nongpl]>=4.18.0->jupyter-events>=0.9.0->jupyter-server<3,>=2.4.0->notebook==7.1.2) (1.2.0)\n",
      "Requirement already satisfied: webcolors>=1.11 in c:\\users\\jhonjairo\\appdata\\roaming\\python\\python39\\site-packages (from jsonschema[format-nongpl]>=4.18.0->jupyter-events>=0.9.0->jupyter-server<3,>=2.4.0->notebook==7.1.2) (1.12)\n",
      "Requirement already satisfied: cffi>=1.0.1 in e:\\algorithmic_trading\\miniconda3\\envs\\zoomcamp\\lib\\site-packages (from argon2-cffi-bindings->argon2-cffi>=21.1->jupyter-server<3,>=2.4.0->notebook==7.1.2) (1.16.0)\n",
      "Requirement already satisfied: soupsieve>1.2 in c:\\users\\jhonjairo\\appdata\\roaming\\python\\python39\\site-packages (from beautifulsoup4->nbconvert>=6.4.4->jupyter-server<3,>=2.4.0->notebook==7.1.2) (2.4)\n",
      "Requirement already satisfied: pycparser in e:\\algorithmic_trading\\miniconda3\\envs\\zoomcamp\\lib\\site-packages (from cffi>=1.0.1->argon2-cffi-bindings->argon2-cffi>=21.1->jupyter-server<3,>=2.4.0->notebook==7.1.2) (2.21)\n",
      "Requirement already satisfied: parso<0.9.0,>=0.8.0 in e:\\algorithmic_trading\\miniconda3\\envs\\zoomcamp\\lib\\site-packages (from jedi>=0.16->ipython>=7.23.1->ipykernel>=6.5.0->jupyterlab<4.2,>=4.1.1->notebook==7.1.2) (0.8.3)\n",
      "Requirement already satisfied: wcwidth in e:\\algorithmic_trading\\miniconda3\\envs\\zoomcamp\\lib\\site-packages (from prompt-toolkit!=3.0.37,<3.1.0,>=3.0.30->ipython>=7.23.1->ipykernel>=6.5.0->jupyterlab<4.2,>=4.1.1->notebook==7.1.2) (0.2.13)\n",
      "Requirement already satisfied: arrow>=0.15.0 in c:\\users\\jhonjairo\\appdata\\roaming\\python\\python39\\site-packages (from isoduration->jsonschema[format-nongpl]>=4.18.0->jupyter-events>=0.9.0->jupyter-server<3,>=2.4.0->notebook==7.1.2) (1.2.3)\n",
      "Requirement already satisfied: executing>=1.2.0 in e:\\algorithmic_trading\\miniconda3\\envs\\zoomcamp\\lib\\site-packages (from stack-data->ipython>=7.23.1->ipykernel>=6.5.0->jupyterlab<4.2,>=4.1.1->notebook==7.1.2) (2.0.1)\n",
      "Requirement already satisfied: asttokens>=2.1.0 in e:\\algorithmic_trading\\miniconda3\\envs\\zoomcamp\\lib\\site-packages (from stack-data->ipython>=7.23.1->ipykernel>=6.5.0->jupyterlab<4.2,>=4.1.1->notebook==7.1.2) (2.4.1)\n",
      "Requirement already satisfied: pure-eval in e:\\algorithmic_trading\\miniconda3\\envs\\zoomcamp\\lib\\site-packages (from stack-data->ipython>=7.23.1->ipykernel>=6.5.0->jupyterlab<4.2,>=4.1.1->notebook==7.1.2) (0.2.2)\n",
      "Downloading notebook-7.1.2-py3-none-any.whl (5.0 MB)\n",
      "   ---------------------------------------- 0.0/5.0 MB ? eta -:--:--\n",
      "    --------------------------------------- 0.1/5.0 MB 2.3 MB/s eta 0:00:03\n",
      "   - -------------------------------------- 0.2/5.0 MB 2.0 MB/s eta 0:00:03\n",
      "   -- ------------------------------------- 0.3/5.0 MB 2.0 MB/s eta 0:00:03\n",
      "   -- ------------------------------------- 0.4/5.0 MB 2.1 MB/s eta 0:00:03\n",
      "   --- ------------------------------------ 0.4/5.0 MB 1.9 MB/s eta 0:00:03\n",
      "   ---- ----------------------------------- 0.5/5.0 MB 1.9 MB/s eta 0:00:03\n",
      "   ---- ----------------------------------- 0.6/5.0 MB 1.8 MB/s eta 0:00:03\n",
      "   ----- ---------------------------------- 0.7/5.0 MB 1.9 MB/s eta 0:00:03\n",
      "   ------ --------------------------------- 0.8/5.0 MB 1.8 MB/s eta 0:00:03\n",
      "   ------- -------------------------------- 0.9/5.0 MB 1.9 MB/s eta 0:00:03\n",
      "   ------- -------------------------------- 1.0/5.0 MB 1.9 MB/s eta 0:00:03\n",
      "   -------- ------------------------------- 1.1/5.0 MB 2.0 MB/s eta 0:00:02\n",
      "   --------- ------------------------------ 1.2/5.0 MB 1.9 MB/s eta 0:00:02\n",
      "   --------- ------------------------------ 1.2/5.0 MB 1.9 MB/s eta 0:00:02\n",
      "   ---------- ----------------------------- 1.3/5.0 MB 1.9 MB/s eta 0:00:02\n",
      "   ----------- ---------------------------- 1.4/5.0 MB 1.9 MB/s eta 0:00:02\n",
      "   ------------ --------------------------- 1.5/5.0 MB 2.0 MB/s eta 0:00:02\n",
      "   ------------ --------------------------- 1.6/5.0 MB 1.9 MB/s eta 0:00:02\n",
      "   ------------- -------------------------- 1.7/5.0 MB 1.9 MB/s eta 0:00:02\n",
      "   -------------- ------------------------- 1.8/5.0 MB 2.0 MB/s eta 0:00:02\n",
      "   --------------- ------------------------ 1.9/5.0 MB 2.0 MB/s eta 0:00:02\n",
      "   ---------------- ----------------------- 2.1/5.0 MB 2.1 MB/s eta 0:00:02\n",
      "   ----------------- ---------------------- 2.2/5.0 MB 2.1 MB/s eta 0:00:02\n",
      "   ------------------ --------------------- 2.3/5.0 MB 2.1 MB/s eta 0:00:02\n",
      "   ------------------- -------------------- 2.4/5.0 MB 2.1 MB/s eta 0:00:02\n",
      "   -------------------- ------------------- 2.5/5.0 MB 2.1 MB/s eta 0:00:02\n",
      "   --------------------- ------------------ 2.7/5.0 MB 2.2 MB/s eta 0:00:02\n",
      "   ---------------------- ----------------- 2.8/5.0 MB 2.2 MB/s eta 0:00:01\n",
      "   ----------------------- ---------------- 2.9/5.0 MB 2.2 MB/s eta 0:00:01\n",
      "   ------------------------ --------------- 3.1/5.0 MB 2.2 MB/s eta 0:00:01\n",
      "   ------------------------- -------------- 3.2/5.0 MB 2.3 MB/s eta 0:00:01\n",
      "   -------------------------- ------------- 3.3/5.0 MB 2.2 MB/s eta 0:00:01\n",
      "   --------------------------- ------------ 3.4/5.0 MB 2.2 MB/s eta 0:00:01\n",
      "   ---------------------------- ----------- 3.5/5.0 MB 2.2 MB/s eta 0:00:01\n",
      "   ---------------------------- ----------- 3.6/5.0 MB 2.2 MB/s eta 0:00:01\n",
      "   ----------------------------- ---------- 3.7/5.0 MB 2.2 MB/s eta 0:00:01\n",
      "   ------------------------------ --------- 3.9/5.0 MB 2.3 MB/s eta 0:00:01\n",
      "   ------------------------------- -------- 4.0/5.0 MB 2.3 MB/s eta 0:00:01\n",
      "   --------------------------------- ------ 4.1/5.0 MB 2.3 MB/s eta 0:00:01\n",
      "   --------------------------------- ------ 4.2/5.0 MB 2.3 MB/s eta 0:00:01\n",
      "   ---------------------------------- ----- 4.4/5.0 MB 2.3 MB/s eta 0:00:01\n",
      "   ----------------------------------- ---- 4.4/5.0 MB 2.3 MB/s eta 0:00:01\n",
      "   ------------------------------------ --- 4.5/5.0 MB 2.3 MB/s eta 0:00:01\n",
      "   ------------------------------------- -- 4.7/5.0 MB 2.3 MB/s eta 0:00:01\n",
      "   -------------------------------------- - 4.8/5.0 MB 2.3 MB/s eta 0:00:01\n",
      "   ---------------------------------------  5.0/5.0 MB 2.4 MB/s eta 0:00:01\n",
      "   ---------------------------------------- 5.0/5.0 MB 2.3 MB/s eta 0:00:00\n",
      "Downloading openai-1.35.1-py3-none-any.whl (326 kB)\n",
      "   ---------------------------------------- 0.0/326.8 kB ? eta -:--:--\n",
      "   ------------- -------------------------- 112.6/326.8 kB 3.2 MB/s eta 0:00:01\n",
      "   -------------------------------- ------- 266.2/326.8 kB 2.7 MB/s eta 0:00:01\n",
      "   ---------------------------------------- 326.8/326.8 kB 2.9 MB/s eta 0:00:00\n",
      "Downloading elasticsearch-8.14.0-py3-none-any.whl (480 kB)\n",
      "   ---------------------------------------- 0.0/480.2 kB ? eta -:--:--\n",
      "   ---------- ----------------------------- 122.9/480.2 kB 3.6 MB/s eta 0:00:01\n",
      "   --------------------- ------------------ 256.0/480.2 kB 3.2 MB/s eta 0:00:01\n",
      "   --------------------------------- ------ 399.4/480.2 kB 3.1 MB/s eta 0:00:01\n",
      "   ---------------------------------------- 480.2/480.2 kB 3.0 MB/s eta 0:00:00\n",
      "Downloading elastic_transport-8.13.1-py3-none-any.whl (64 kB)\n",
      "   ---------------------------------------- 0.0/64.5 kB ? eta -:--:--\n",
      "   ---------------------------------------- 64.5/64.5 kB 3.6 MB/s eta 0:00:00\n",
      "Downloading jupyter_server-2.14.1-py3-none-any.whl (383 kB)\n",
      "   ---------------------------------------- 0.0/383.4 kB ? eta -:--:--\n",
      "   -------------- ------------------------- 143.4/383.4 kB 2.8 MB/s eta 0:00:01\n",
      "   --------------------------------- ------ 317.4/383.4 kB 3.9 MB/s eta 0:00:01\n",
      "   ---------------------------------------- 383.4/383.4 kB 3.0 MB/s eta 0:00:00\n",
      "Downloading jupyterlab-4.1.8-py3-none-any.whl (11.4 MB)\n",
      "   ---------------------------------------- 0.0/11.4 MB ? eta -:--:--\n",
      "    --------------------------------------- 0.1/11.4 MB 4.3 MB/s eta 0:00:03\n",
      "    --------------------------------------- 0.3/11.4 MB 2.6 MB/s eta 0:00:05\n",
      "   - -------------------------------------- 0.4/11.4 MB 2.9 MB/s eta 0:00:04\n",
      "   - -------------------------------------- 0.5/11.4 MB 2.9 MB/s eta 0:00:04\n",
      "   -- ------------------------------------- 0.7/11.4 MB 3.1 MB/s eta 0:00:04\n",
      "   -- ------------------------------------- 0.8/11.4 MB 3.0 MB/s eta 0:00:04\n",
      "   --- ------------------------------------ 0.9/11.4 MB 3.1 MB/s eta 0:00:04\n",
      "   --- ------------------------------------ 1.1/11.4 MB 2.9 MB/s eta 0:00:04\n",
      "   ---- ----------------------------------- 1.2/11.4 MB 3.0 MB/s eta 0:00:04\n",
      "   ---- ----------------------------------- 1.4/11.4 MB 3.0 MB/s eta 0:00:04\n",
      "   ----- ---------------------------------- 1.5/11.4 MB 2.9 MB/s eta 0:00:04\n",
      "   ----- ---------------------------------- 1.6/11.4 MB 3.0 MB/s eta 0:00:04\n",
      "   ------ --------------------------------- 1.8/11.4 MB 3.0 MB/s eta 0:00:04\n",
      "   ------ --------------------------------- 1.9/11.4 MB 3.0 MB/s eta 0:00:04\n",
      "   ------ --------------------------------- 1.9/11.4 MB 2.8 MB/s eta 0:00:04\n",
      "   ------- -------------------------------- 2.1/11.4 MB 2.8 MB/s eta 0:00:04\n",
      "   ------- -------------------------------- 2.2/11.4 MB 2.8 MB/s eta 0:00:04\n",
      "   -------- ------------------------------- 2.4/11.4 MB 2.9 MB/s eta 0:00:04\n",
      "   -------- ------------------------------- 2.5/11.4 MB 2.8 MB/s eta 0:00:04\n",
      "   --------- ------------------------------ 2.7/11.4 MB 2.9 MB/s eta 0:00:04\n",
      "   --------- ------------------------------ 2.8/11.4 MB 2.9 MB/s eta 0:00:03\n",
      "   ---------- ----------------------------- 2.9/11.4 MB 2.9 MB/s eta 0:00:03\n",
      "   ---------- ----------------------------- 3.1/11.4 MB 2.9 MB/s eta 0:00:03\n",
      "   ----------- ---------------------------- 3.2/11.4 MB 2.9 MB/s eta 0:00:03\n",
      "   ----------- ---------------------------- 3.3/11.4 MB 2.9 MB/s eta 0:00:03\n",
      "   ------------ --------------------------- 3.5/11.4 MB 2.9 MB/s eta 0:00:03\n",
      "   ------------ --------------------------- 3.7/11.4 MB 2.9 MB/s eta 0:00:03\n",
      "   ------------- -------------------------- 3.8/11.4 MB 2.9 MB/s eta 0:00:03\n",
      "   ------------- -------------------------- 3.9/11.4 MB 3.0 MB/s eta 0:00:03\n",
      "   ------------- -------------------------- 4.0/11.4 MB 2.9 MB/s eta 0:00:03\n",
      "   -------------- ------------------------- 4.1/11.4 MB 2.9 MB/s eta 0:00:03\n",
      "   -------------- ------------------------- 4.2/11.4 MB 2.9 MB/s eta 0:00:03\n",
      "   --------------- ------------------------ 4.4/11.4 MB 2.9 MB/s eta 0:00:03\n",
      "   --------------- ------------------------ 4.5/11.4 MB 2.9 MB/s eta 0:00:03\n",
      "   ---------------- ----------------------- 4.6/11.4 MB 2.9 MB/s eta 0:00:03\n",
      "   ---------------- ----------------------- 4.8/11.4 MB 2.9 MB/s eta 0:00:03\n",
      "   ----------------- ---------------------- 4.9/11.4 MB 2.9 MB/s eta 0:00:03\n",
      "   ----------------- ---------------------- 5.1/11.4 MB 2.9 MB/s eta 0:00:03\n",
      "   ------------------ --------------------- 5.2/11.4 MB 2.9 MB/s eta 0:00:03\n",
      "   ------------------ --------------------- 5.3/11.4 MB 2.9 MB/s eta 0:00:03\n",
      "   ------------------- -------------------- 5.4/11.4 MB 2.9 MB/s eta 0:00:03\n",
      "   ------------------- -------------------- 5.6/11.4 MB 2.9 MB/s eta 0:00:03\n",
      "   ------------------- -------------------- 5.7/11.4 MB 2.9 MB/s eta 0:00:02\n",
      "   -------------------- ------------------- 5.8/11.4 MB 2.9 MB/s eta 0:00:02\n",
      "   -------------------- ------------------- 5.9/11.4 MB 2.9 MB/s eta 0:00:02\n",
      "   --------------------- ------------------ 6.0/11.4 MB 2.9 MB/s eta 0:00:02\n",
      "   --------------------- ------------------ 6.2/11.4 MB 2.8 MB/s eta 0:00:02\n",
      "   ---------------------- ----------------- 6.3/11.4 MB 2.8 MB/s eta 0:00:02\n",
      "   ---------------------- ----------------- 6.5/11.4 MB 2.9 MB/s eta 0:00:02\n",
      "   ----------------------- ---------------- 6.6/11.4 MB 2.9 MB/s eta 0:00:02\n",
      "   ----------------------- ---------------- 6.8/11.4 MB 2.9 MB/s eta 0:00:02\n",
      "   ------------------------ --------------- 6.9/11.4 MB 2.9 MB/s eta 0:00:02\n",
      "   ------------------------ --------------- 7.1/11.4 MB 2.9 MB/s eta 0:00:02\n",
      "   ------------------------- -------------- 7.2/11.4 MB 2.9 MB/s eta 0:00:02\n",
      "   ------------------------- -------------- 7.3/11.4 MB 2.9 MB/s eta 0:00:02\n",
      "   -------------------------- ------------- 7.5/11.4 MB 2.9 MB/s eta 0:00:02\n",
      "   -------------------------- ------------- 7.7/11.4 MB 2.9 MB/s eta 0:00:02\n",
      "   -------------------------- ------------- 7.7/11.4 MB 2.9 MB/s eta 0:00:02\n",
      "   --------------------------- ------------ 7.9/11.4 MB 2.9 MB/s eta 0:00:02\n",
      "   ---------------------------- ----------- 8.0/11.4 MB 2.9 MB/s eta 0:00:02\n",
      "   ---------------------------- ----------- 8.2/11.4 MB 2.9 MB/s eta 0:00:02\n",
      "   ----------------------------- ---------- 8.4/11.4 MB 2.9 MB/s eta 0:00:02\n",
      "   ----------------------------- ---------- 8.5/11.4 MB 2.9 MB/s eta 0:00:01\n",
      "   ------------------------------ --------- 8.7/11.4 MB 2.9 MB/s eta 0:00:01\n",
      "   ------------------------------ --------- 8.8/11.4 MB 2.9 MB/s eta 0:00:01\n",
      "   ------------------------------- -------- 9.0/11.4 MB 2.9 MB/s eta 0:00:01\n",
      "   ------------------------------- -------- 9.1/11.4 MB 2.9 MB/s eta 0:00:01\n",
      "   -------------------------------- ------- 9.3/11.4 MB 2.9 MB/s eta 0:00:01\n",
      "   -------------------------------- ------- 9.4/11.4 MB 2.9 MB/s eta 0:00:01\n",
      "   --------------------------------- ------ 9.6/11.4 MB 3.0 MB/s eta 0:00:01\n",
      "   ---------------------------------- ----- 9.8/11.4 MB 3.0 MB/s eta 0:00:01\n",
      "   ---------------------------------- ----- 10.0/11.4 MB 3.0 MB/s eta 0:00:01\n",
      "   ----------------------------------- ---- 10.1/11.4 MB 3.0 MB/s eta 0:00:01\n",
      "   ------------------------------------ --- 10.3/11.4 MB 3.0 MB/s eta 0:00:01\n",
      "   ------------------------------------ --- 10.5/11.4 MB 3.0 MB/s eta 0:00:01\n",
      "   ------------------------------------- -- 10.6/11.4 MB 3.0 MB/s eta 0:00:01\n",
      "   ------------------------------------- -- 10.8/11.4 MB 3.0 MB/s eta 0:00:01\n",
      "   -------------------------------------- - 11.0/11.4 MB 3.0 MB/s eta 0:00:01\n",
      "   ---------------------------------------  11.2/11.4 MB 3.0 MB/s eta 0:00:01\n",
      "   ---------------------------------------  11.4/11.4 MB 3.1 MB/s eta 0:00:01\n",
      "   ---------------------------------------- 11.4/11.4 MB 3.1 MB/s eta 0:00:00\n",
      "Downloading jupyterlab_server-2.27.2-py3-none-any.whl (59 kB)\n",
      "   ---------------------------------------- 0.0/59.4 kB ? eta -:--:--\n",
      "   ---------------------------------------- 59.4/59.4 kB 3.1 MB/s eta 0:00:00\n",
      "Downloading async_lru-2.0.4-py3-none-any.whl (6.1 kB)\n",
      "Downloading jsonschema-4.22.0-py3-none-any.whl (88 kB)\n",
      "   ---------------------------------------- 0.0/88.3 kB ? eta -:--:--\n",
      "   ---------------------------------------- 88.3/88.3 kB ? eta 0:00:00\n",
      "Downloading jupyter_events-0.10.0-py3-none-any.whl (18 kB)\n",
      "Downloading jupyter_lsp-2.2.5-py3-none-any.whl (69 kB)\n",
      "   ---------------------------------------- 0.0/69.1 kB ? eta -:--:--\n",
      "   ---------------------------------------- 69.1/69.1 kB ? eta 0:00:00\n",
      "Downloading overrides-7.7.0-py3-none-any.whl (17 kB)\n",
      "Using cached tomli-2.0.1-py3-none-any.whl (12 kB)\n",
      "Downloading websocket_client-1.8.0-py3-none-any.whl (58 kB)\n",
      "   ---------------------------------------- 0.0/58.8 kB ? eta -:--:--\n",
      "   ---------------------------------------- 58.8/58.8 kB 3.2 MB/s eta 0:00:00\n",
      "Downloading jsonschema_specifications-2023.12.1-py3-none-any.whl (18 kB)\n",
      "Downloading referencing-0.35.1-py3-none-any.whl (26 kB)\n",
      "Downloading rpds_py-0.18.1-cp39-none-win_amd64.whl (208 kB)\n",
      "   ---------------------------------------- 0.0/208.8 kB ? eta -:--:--\n",
      "   --------------------------------- ------ 174.1/208.8 kB 5.3 MB/s eta 0:00:01\n",
      "   ---------------------------------------- 208.8/208.8 kB 4.2 MB/s eta 0:00:00\n",
      "Installing collected packages: websocket-client, tomli, rpds-py, overrides, elastic-transport, async-lru, referencing, elasticsearch, openai, jsonschema-specifications, jsonschema, jupyter-events, jupyter-server, jupyterlab-server, jupyter-lsp, jupyterlab, notebook\n",
      "  Attempting uninstall: websocket-client\n",
      "    Found existing installation: websocket-client 1.5.1\n",
      "    Uninstalling websocket-client-1.5.1:\n",
      "      Successfully uninstalled websocket-client-1.5.1\n",
      "  Attempting uninstall: jsonschema\n",
      "    Found existing installation: jsonschema 4.17.3\n",
      "    Uninstalling jsonschema-4.17.3:\n",
      "      Successfully uninstalled jsonschema-4.17.3\n",
      "  Attempting uninstall: jupyter-events\n",
      "    Found existing installation: jupyter-events 0.6.3\n",
      "    Uninstalling jupyter-events-0.6.3:\n",
      "      Successfully uninstalled jupyter-events-0.6.3\n",
      "  Attempting uninstall: jupyter-server\n",
      "    Found existing installation: jupyter_server 2.3.0\n",
      "    Uninstalling jupyter_server-2.3.0:\n",
      "      Successfully uninstalled jupyter_server-2.3.0\n",
      "  Attempting uninstall: jupyterlab-server\n",
      "    Found existing installation: jupyterlab_server 2.19.0\n",
      "    Uninstalling jupyterlab_server-2.19.0:\n",
      "      Successfully uninstalled jupyterlab_server-2.19.0\n",
      "  Attempting uninstall: jupyterlab\n",
      "    Found existing installation: jupyterlab 3.6.1\n",
      "    Uninstalling jupyterlab-3.6.1:\n",
      "      Successfully uninstalled jupyterlab-3.6.1\n",
      "  Attempting uninstall: notebook\n",
      "    Found existing installation: notebook 6.5.2\n",
      "    Uninstalling notebook-6.5.2:\n",
      "      Successfully uninstalled notebook-6.5.2\n",
      "Successfully installed async-lru-2.0.4 elastic-transport-8.13.1 elasticsearch-8.14.0 jsonschema-4.22.0 jsonschema-specifications-2023.12.1 jupyter-events-0.10.0 jupyter-lsp-2.2.5 jupyter-server-2.14.1 jupyterlab-4.1.8 jupyterlab-server-2.27.2 notebook-7.1.2 openai-1.35.1 overrides-7.7.0 referencing-0.35.1 rpds-py-0.18.1 tomli-2.0.1 websocket-client-1.8.0\n"
     ]
    }
   ],
   "source": [
    "# !pip install tqdm notebook==7.1.2 openai==0.28 elasticsearch pandas scikit-learn"
   ]
  },
  {
   "cell_type": "code",
   "execution_count": 50,
   "id": "46e6bd47",
   "metadata": {},
   "outputs": [],
   "source": [
    "from dotenv import load_dotenv\n",
    "import os"
   ]
  },
  {
   "cell_type": "code",
   "execution_count": 51,
   "id": "63b0fd25-41a2-48ad-b9bf-3f1265308bd4",
   "metadata": {},
   "outputs": [],
   "source": [
    "import minsearch"
   ]
  },
  {
   "cell_type": "code",
   "execution_count": 52,
   "id": "d2d20940",
   "metadata": {},
   "outputs": [],
   "source": [
    "# Cargar variables de entorno desde el archivo .env\n",
    "load_dotenv()\n",
    "\n",
    "# Leer la contraseña desde la variable de entorno\n",
    "database_password = os.getenv('DATABASE_PASSWORD')"
   ]
  },
  {
   "cell_type": "code",
   "execution_count": 53,
   "id": "9b37cce2-ed84-408b-9106-d61360aa82c9",
   "metadata": {},
   "outputs": [],
   "source": [
    "import json"
   ]
  },
  {
   "cell_type": "code",
   "execution_count": 54,
   "id": "5bdaf6ce-2540-494f-989c-5b94b1b6626c",
   "metadata": {},
   "outputs": [],
   "source": [
    "with open('documents.json', 'rt') as f_in:\n",
    "    docs_raw = json.load(f_in)"
   ]
  },
  {
   "cell_type": "code",
   "execution_count": 55,
   "id": "42b9b1f9-3c90-42b0-beb4-cb419f9cdcea",
   "metadata": {},
   "outputs": [],
   "source": [
    "documents = []\n",
    "\n",
    "for course_dict in docs_raw:\n",
    "    for doc in course_dict['documents']:\n",
    "        doc['course'] = course_dict['course']\n",
    "        documents.append(doc)"
   ]
  },
  {
   "cell_type": "code",
   "execution_count": 56,
   "id": "57de60e5-b96c-499c-a7cf-0f30fc33b324",
   "metadata": {},
   "outputs": [
    {
     "data": {
      "text/plain": [
       "{'text': \"The purpose of this document is to capture frequently asked technical questions\\nThe exact day and hour of the course will be 15th Jan 2024 at 17h00. The course will start with the first  “Office Hours'' live.1\\nSubscribe to course public Google Calendar (it works from Desktop only).\\nRegister before the course starts using this link.\\nJoin the course Telegram channel with announcements.\\nDon’t forget to register in DataTalks.Club's Slack and join the channel.\",\n",
       " 'section': 'General course-related questions',\n",
       " 'question': 'Course - When will the course start?',\n",
       " 'course': 'data-engineering-zoomcamp'}"
      ]
     },
     "execution_count": 56,
     "metadata": {},
     "output_type": "execute_result"
    }
   ],
   "source": [
    "documents[0]"
   ]
  },
  {
   "cell_type": "code",
   "execution_count": 57,
   "id": "c499838b-73b3-44be-8ba6-f46d3693aa59",
   "metadata": {},
   "outputs": [],
   "source": [
    "index = minsearch.Index(\n",
    "    text_fields=[\"question\", \"text\", \"section\"],\n",
    "    keyword_fields=[\"course\"]\n",
    ")"
   ]
  },
  {
   "cell_type": "markdown",
   "id": "e201f0f3-b380-43a5-95ee-62b1b79002d1",
   "metadata": {},
   "source": [
    "SELECT * WHERE course = 'data-engineering-zoomcamp';"
   ]
  },
  {
   "cell_type": "code",
   "execution_count": 58,
   "id": "a8d8ea88-7412-49c1-8a8e-44d0d0862a17",
   "metadata": {},
   "outputs": [],
   "source": [
    "q = 'the course has already started, can I still enroll?'"
   ]
  },
  {
   "cell_type": "code",
   "execution_count": 59,
   "id": "ce7d0d18-5c07-4010-9f90-bbd021f110c8",
   "metadata": {},
   "outputs": [
    {
     "data": {
      "text/plain": [
       "<minsearch.Index at 0x20efdf3f970>"
      ]
     },
     "execution_count": 59,
     "metadata": {},
     "output_type": "execute_result"
    }
   ],
   "source": [
    "index.fit(documents)"
   ]
  },
  {
   "cell_type": "code",
   "execution_count": 60,
   "id": "7979e2c0",
   "metadata": {},
   "outputs": [],
   "source": [
    "with open('.env') as f:\n",
    "    content = f.readlines()\n",
    "\n",
    "import os\n",
    "\n",
    "for line in content:\n",
    "    if 'OPENAI_KEY' in line:\n",
    "        key, value = line.strip().split('=', 1)\n",
    "        os.environ[key] = value\n",
    "\n",
    "OPENAI_KEY = os.getenv('OPENAI_KEY')"
   ]
  },
  {
   "cell_type": "code",
   "execution_count": 61,
   "id": "aa755a08-b98d-4e92-8994-04e6108499d9",
   "metadata": {},
   "outputs": [],
   "source": [
    "from openai import OpenAI"
   ]
  },
  {
   "cell_type": "code",
   "execution_count": 62,
   "id": "ef8e9cdc-dfd4-4e54-a332-4b9bde4e6047",
   "metadata": {},
   "outputs": [],
   "source": [
    "client = OpenAI(api_key=OPENAI_KEY)"
   ]
  },
  {
   "cell_type": "code",
   "execution_count": 63,
   "id": "e7da9664-ecb3-4d89-87da-9b2b942444d0",
   "metadata": {},
   "outputs": [
    {
     "data": {
      "text/plain": [
       "'It would depend on the policies of the institution offering the course. Some institutions may allow late registration or enrollment with a waiver if you have missed the official start date. It is recommended to contact the institution and inquire about their specific policy regarding late enrollment.'"
      ]
     },
     "execution_count": 63,
     "metadata": {},
     "output_type": "execute_result"
    }
   ],
   "source": [
    "response = client.chat.completions.create(\n",
    "    model='gpt-3.5-turbo',\n",
    "    messages=[{\"role\": \"user\", \"content\": q}]\n",
    ")\n",
    "\n",
    "response.choices[0].message.content"
   ]
  },
  {
   "cell_type": "code",
   "execution_count": 12,
   "id": "b21237c3-80e9-429c-a089-d45428087046",
   "metadata": {},
   "outputs": [],
   "source": [
    "def search(query):\n",
    "    boost = {'question': 3.0, 'section': 0.5}\n",
    "\n",
    "    results = index.search(\n",
    "        query=query,\n",
    "        filter_dict={'course': 'data-engineering-zoomcamp'},\n",
    "        boost_dict=boost,\n",
    "        num_results=5\n",
    "    )\n",
    "\n",
    "    return results"
   ]
  },
  {
   "cell_type": "code",
   "execution_count": 13,
   "id": "8cc5784e-6515-42e5-be62-8fb915df1088",
   "metadata": {},
   "outputs": [],
   "source": [
    "def build_prompt(query, search_results):\n",
    "    prompt_template = \"\"\"\n",
    "You're a course teaching assistant. Answer the QUESTION based on the CONTEXT from the FAQ database.\n",
    "Use only the facts from the CONTEXT when answering the QUESTION.\n",
    "\n",
    "QUESTION: {question}\n",
    "\n",
    "CONTEXT: \n",
    "{context}\n",
    "\"\"\".strip()\n",
    "\n",
    "    context = \"\"\n",
    "    \n",
    "    for doc in search_results:\n",
    "        context = context + f\"section: {doc['section']}\\nquestion: {doc['question']}\\nanswer: {doc['text']}\\n\\n\"\n",
    "    \n",
    "    prompt = prompt_template.format(question=query, context=context).strip()\n",
    "    return prompt"
   ]
  },
  {
   "cell_type": "code",
   "execution_count": 14,
   "id": "97d35dec-c25f-472d-b961-20d5c30902ae",
   "metadata": {},
   "outputs": [],
   "source": [
    "def llm(prompt):\n",
    "    response = client.chat.completions.create(\n",
    "        model='gpt-4o',\n",
    "        messages=[{\"role\": \"user\", \"content\": prompt}]\n",
    "    )\n",
    "    \n",
    "    return response.choices[0].message.content"
   ]
  },
  {
   "cell_type": "code",
   "execution_count": 15,
   "id": "8602f40b-ad3b-49c9-b3cc-051a79c888bc",
   "metadata": {},
   "outputs": [],
   "source": [
    "query = 'how do I run kafka?'\n",
    "\n",
    "def rag(query):\n",
    "    search_results = search(query)\n",
    "    prompt = build_prompt(query, search_results)\n",
    "    answer = llm(prompt)\n",
    "    return answer"
   ]
  },
  {
   "cell_type": "code",
   "execution_count": 16,
   "id": "5fd4497b-c5d5-4258-b950-6b35d1af4ec5",
   "metadata": {},
   "outputs": [
    {
     "data": {
      "text/plain": [
       "\"To run Kafka, follow the relevant instructions based on your use case:\\n\\n### For Java:\\nNavigate to your project directory and use the following command in the terminal to run a Kafka producer/consumer/KStreams, etc.:\\n```shell\\njava -cp build/libs/<jar_name>-1.0-SNAPSHOT.jar:out src/main/java/org/example/JsonProducer.java\\n```\\nReplace `<jar_name>` with the actual name of your JAR file.\\n\\n### For Python:\\nIf you're running Python Kafka, ensure you have your virtual environment set up and activate it. Here’s how you can do it:\\n\\n1. **Create a virtual environment and install required packages (run only once):**\\n    ```shell\\n    python -m venv env\\n    source env/bin/activate\\n    pip install -r ../requirements.txt\\n    ```\\n\\n2. **Activate the virtual environment (run this every time you need it):**\\n    ```shell\\n    source env/bin/activate\\n    ```\\n\\n3. **Deactivate the virtual environment when done:**\\n    ```shell\\n    deactivate\\n    ```\\n\\nNote: On Windows, the activation command would be slightly different:\\n```shell\\nenv\\\\Scripts\\\\activate\\n```\\n\\nMake sure that your Docker images are up and running if they are part of your setup.\""
      ]
     },
     "execution_count": 16,
     "metadata": {},
     "output_type": "execute_result"
    }
   ],
   "source": [
    "rag(query)"
   ]
  },
  {
   "cell_type": "code",
   "execution_count": 17,
   "id": "385b012f-4905-422d-8d7c-3d542dfe5a7c",
   "metadata": {},
   "outputs": [
    {
     "data": {
      "text/plain": [
       "'Yes, you can still enroll in the course even after it has started. You are eligible to submit homework assignments, but please be mindful of the deadlines for the final projects to ensure you complete everything on time.'"
      ]
     },
     "execution_count": 17,
     "metadata": {},
     "output_type": "execute_result"
    }
   ],
   "source": [
    "rag('the course has already started, can I still enroll?')"
   ]
  },
  {
   "cell_type": "code",
   "execution_count": 18,
   "id": "d3e04fb3-b7f7-4e53-8de9-a1c6cde3f038",
   "metadata": {},
   "outputs": [
    {
     "data": {
      "text/plain": [
       "{'text': \"The purpose of this document is to capture frequently asked technical questions\\nThe exact day and hour of the course will be 15th Jan 2024 at 17h00. The course will start with the first  “Office Hours'' live.1\\nSubscribe to course public Google Calendar (it works from Desktop only).\\nRegister before the course starts using this link.\\nJoin the course Telegram channel with announcements.\\nDon’t forget to register in DataTalks.Club's Slack and join the channel.\",\n",
       " 'section': 'General course-related questions',\n",
       " 'question': 'Course - When will the course start?',\n",
       " 'course': 'data-engineering-zoomcamp'}"
      ]
     },
     "execution_count": 18,
     "metadata": {},
     "output_type": "execute_result"
    }
   ],
   "source": [
    "documents[0]"
   ]
  },
  {
   "cell_type": "code",
   "execution_count": 20,
   "id": "2c05052f-a85a-4137-8398-0fd0be678599",
   "metadata": {},
   "outputs": [],
   "source": [
    "from elasticsearch import Elasticsearch"
   ]
  },
  {
   "cell_type": "code",
   "execution_count": 21,
   "id": "a78df1cc-5a5a-40b4-b673-19c7f0319453",
   "metadata": {},
   "outputs": [],
   "source": [
    "es_client = Elasticsearch('http://localhost:9200') "
   ]
  },
  {
   "cell_type": "code",
   "execution_count": 23,
   "id": "c9367c18-41ad-495e-9920-1a0c552f0d18",
   "metadata": {},
   "outputs": [
    {
     "data": {
      "text/plain": [
       "ObjectApiResponse({'acknowledged': True, 'shards_acknowledged': True, 'index': 'course-questions'})"
      ]
     },
     "execution_count": 23,
     "metadata": {},
     "output_type": "execute_result"
    }
   ],
   "source": [
    "index_settings = {\n",
    "    \"settings\": {\n",
    "        \"number_of_shards\": 1,\n",
    "        \"number_of_replicas\": 0\n",
    "    },\n",
    "    \"mappings\": {\n",
    "        \"properties\": {\n",
    "            \"text\": {\"type\": \"text\"},\n",
    "            \"section\": {\"type\": \"text\"},\n",
    "            \"question\": {\"type\": \"text\"},\n",
    "            \"course\": {\"type\": \"keyword\"} \n",
    "        }\n",
    "    }\n",
    "}\n",
    "\n",
    "index_name = \"course-questions\"\n",
    "\n",
    "es_client.indices.create(index=index_name, body=index_settings)"
   ]
  },
  {
   "cell_type": "code",
   "execution_count": 24,
   "id": "9f778c93-a5b6-4634-b42e-0c25083a2512",
   "metadata": {},
   "outputs": [
    {
     "data": {
      "text/plain": [
       "{'text': \"The purpose of this document is to capture frequently asked technical questions\\nThe exact day and hour of the course will be 15th Jan 2024 at 17h00. The course will start with the first  “Office Hours'' live.1\\nSubscribe to course public Google Calendar (it works from Desktop only).\\nRegister before the course starts using this link.\\nJoin the course Telegram channel with announcements.\\nDon’t forget to register in DataTalks.Club's Slack and join the channel.\",\n",
       " 'section': 'General course-related questions',\n",
       " 'question': 'Course - When will the course start?',\n",
       " 'course': 'data-engineering-zoomcamp'}"
      ]
     },
     "execution_count": 24,
     "metadata": {},
     "output_type": "execute_result"
    }
   ],
   "source": [
    "documents[0]"
   ]
  },
  {
   "cell_type": "code",
   "execution_count": 25,
   "id": "5c230059-e219-4a13-a7f8-ede4cf1b028f",
   "metadata": {},
   "outputs": [
    {
     "name": "stderr",
     "output_type": "stream",
     "text": [
      "/usr/local/python/3.10.13/lib/python3.10/site-packages/tqdm/auto.py:21: TqdmWarning: IProgress not found. Please update jupyter and ipywidgets. See https://ipywidgets.readthedocs.io/en/stable/user_install.html\n",
      "  from .autonotebook import tqdm as notebook_tqdm\n"
     ]
    }
   ],
   "source": [
    "from tqdm.auto import tqdm"
   ]
  },
  {
   "cell_type": "code",
   "execution_count": 26,
   "id": "70fe3c97-916d-42c0-bd7b-4f42d9056409",
   "metadata": {},
   "outputs": [
    {
     "name": "stderr",
     "output_type": "stream",
     "text": [
      "100%|██████████████████████████████████| 948/948 [00:28<00:00, 33.07it/s]\n"
     ]
    }
   ],
   "source": [
    "for doc in tqdm(documents):\n",
    "    es_client.index(index=index_name, document=doc)"
   ]
  },
  {
   "cell_type": "code",
   "execution_count": 36,
   "id": "f1bc1244-b8dc-4228-8171-c0507004db93",
   "metadata": {},
   "outputs": [],
   "source": [
    "query = 'I just disovered the course. Can I still join it?'"
   ]
  },
  {
   "cell_type": "code",
   "execution_count": 42,
   "id": "7c72e000-910b-4fb5-aa88-2561e7bc39f2",
   "metadata": {},
   "outputs": [],
   "source": [
    "def elastic_search(query):\n",
    "    search_query = {\n",
    "        \"size\": 5,\n",
    "        \"query\": {\n",
    "            \"bool\": {\n",
    "                \"must\": {\n",
    "                    \"multi_match\": {\n",
    "                        \"query\": query,\n",
    "                        \"fields\": [\"question^3\", \"text\", \"section\"],\n",
    "                        \"type\": \"best_fields\"\n",
    "                    }\n",
    "                },\n",
    "                \"filter\": {\n",
    "                    \"term\": {\n",
    "                        \"course\": \"data-engineering-zoomcamp\"\n",
    "                    }\n",
    "                }\n",
    "            }\n",
    "        }\n",
    "    }\n",
    "\n",
    "    response = es_client.search(index=index_name, body=search_query)\n",
    "    \n",
    "    result_docs = []\n",
    "    \n",
    "    for hit in response['hits']['hits']:\n",
    "        result_docs.append(hit['_source'])\n",
    "    \n",
    "    return result_docs"
   ]
  },
  {
   "cell_type": "code",
   "execution_count": 44,
   "id": "81abecbc-eb6b-428f-ab7d-7e21f58b64de",
   "metadata": {},
   "outputs": [],
   "source": [
    "def rag(query):\n",
    "    search_results = elastic_search(query)\n",
    "    prompt = build_prompt(query, search_results)\n",
    "    answer = llm(prompt)\n",
    "    return answer"
   ]
  },
  {
   "cell_type": "code",
   "execution_count": 45,
   "id": "0ea9315a-a619-4066-9e90-8c260f2c8450",
   "metadata": {},
   "outputs": [
    {
     "data": {
      "text/plain": [
       "'Yes, you can still join the course even if you discovered it after the start date. You are eligible to submit the homeworks, but be mindful of the deadlines for turning in the final projects. So make sure not to leave everything for the last minute.'"
      ]
     },
     "execution_count": 45,
     "metadata": {},
     "output_type": "execute_result"
    }
   ],
   "source": [
    "rag(query)"
   ]
  },
  {
   "cell_type": "code",
   "execution_count": null,
   "id": "d8095274-c9cd-4fd5-80d2-069fc951834f",
   "metadata": {},
   "outputs": [],
   "source": []
  }
 ],
 "metadata": {
  "kernelspec": {
   "display_name": "Python 3 (ipykernel)",
   "language": "python",
   "name": "python3"
  },
  "language_info": {
   "codemirror_mode": {
    "name": "ipython",
    "version": 3
   },
   "file_extension": ".py",
   "mimetype": "text/x-python",
   "name": "python",
   "nbconvert_exporter": "python",
   "pygments_lexer": "ipython3",
   "version": "3.9.18"
  }
 },
 "nbformat": 4,
 "nbformat_minor": 5
}
